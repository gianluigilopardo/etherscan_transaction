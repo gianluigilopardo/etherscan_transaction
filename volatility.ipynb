{
 "cells": [
  {
   "cell_type": "code",
   "execution_count": 16,
   "id": "1737910d",
   "metadata": {},
   "outputs": [],
   "source": [
    "# --- Download ETH/USD daily data ---\n",
    "import yfinance as yf\n",
    "import pandas as pd\n",
    "import numpy as np\n",
    "import os, requests"
   ]
  },
  {
   "cell_type": "code",
   "execution_count": 7,
   "id": "0ac0294e",
   "metadata": {},
   "outputs": [],
   "source": [
    "from ecb import get_proxies "
   ]
  },
  {
   "cell_type": "code",
   "execution_count": 8,
   "id": "e474931b",
   "metadata": {},
   "outputs": [
    {
     "name": "stderr",
     "output_type": "stream",
     "text": [
      "C:\\Users\\lopardo\\AppData\\Local\\Temp\\ipykernel_15912\\4142478803.py:5: DeprecationWarning: Set proxy via new config function: yf.set_config(proxy=proxy)\n",
      "  eth = yf.download(\n",
      "C:\\Users\\lopardo\\AppData\\Local\\Temp\\ipykernel_15912\\4142478803.py:5: FutureWarning: YF.download() has changed argument auto_adjust default to True\n",
      "  eth = yf.download(\n",
      "[*********************100%***********************]  1 of 1 completed\n"
     ]
    }
   ],
   "source": [
    "# Option 1: full history\n",
    "# eth = yf.download(\"ETH-USD\", period=\"max\", interval=\"1d\", auto_adjust=False, progress=False)\n",
    "\n",
    "# (Alternatively specify dates)\n",
    "eth = yf.download(\n",
    "    \"ETH-USD\", \n",
    "    start=\"2020-01-01\", \n",
    "    end=\"2025-10-01\", \n",
    "    interval=\"1d\", \n",
    "    proxy=get_proxies(),   # use custom session\n",
    "    )"
   ]
  },
  {
   "cell_type": "code",
   "execution_count": 9,
   "id": "e8260c7f",
   "metadata": {},
   "outputs": [
    {
     "name": "stdout",
     "output_type": "stream",
     "text": [
      "Price            Close        High         Low        Open       Volume\n",
      "Ticker         ETH-USD     ETH-USD     ETH-USD     ETH-USD      ETH-USD\n",
      "Date                                                                   \n",
      "2020-01-01  130.802002  132.835358  129.198288  129.630661   7935230330\n",
      "2020-01-02  127.410179  130.820038  126.954910  130.820038   8032709256\n",
      "2020-01-03  134.171707  134.554016  126.490021  127.411263  10476845358\n",
      "2020-01-04  135.069366  136.052719  133.040558  134.168518   7430904515\n",
      "2020-01-05  136.276779  139.410202  135.045624  135.072098   7526675353\n",
      "Price             Close         High          Low         Open       Volume\n",
      "Ticker          ETH-USD      ETH-USD      ETH-USD      ETH-USD      ETH-USD\n",
      "Date                                                                       \n",
      "2025-09-26  4035.887939  4069.168701  3868.433594  3868.690918  47873508328\n",
      "2025-09-27  4018.658203  4038.451660  3975.758057  4035.914551  20382555776\n",
      "2025-09-28  4141.476562  4143.003906  3969.792969  4018.659668  24631307054\n",
      "2025-09-29  4217.341797  4234.782715  4087.927246  4141.356445  38560429932\n",
      "2025-09-30  4145.957520  4238.671387  4095.443604  4217.055176  37679153330\n",
      "Rows: 2100\n"
     ]
    }
   ],
   "source": [
    "print(eth.head())\n",
    "print(eth.tail())\n",
    "print(\"Rows:\", len(eth))\n",
    "\n",
    "# Save if needed\n",
    "eth.to_csv(\"data/eth_usd_daily_yf.csv\")"
   ]
  },
  {
   "cell_type": "code",
   "execution_count": null,
   "id": "286f301f",
   "metadata": {},
   "outputs": [
    {
     "name": "stdout",
     "output_type": "stream",
     "text": [
      "        date       close        high         low        open       volume\n",
      "0 2020-01-01  130.802002  132.835358  129.198288  129.630661   7935230330\n",
      "1 2020-01-02  127.410179  130.820038  126.954910  130.820038   8032709256\n",
      "2 2020-01-03  134.171707  134.554016  126.490021  127.411263  10476845358\n",
      "3 2020-01-04  135.069366  136.052719  133.040558  134.168518   7430904515\n",
      "4 2020-01-05  136.276779  139.410202  135.045624  135.072098   7526675353\n",
      "           date        close         high          low         open  \\\n",
      "2095 2025-09-26  4035.887939  4069.168701  3868.433594  3868.690918   \n",
      "2096 2025-09-27  4018.658203  4038.451660  3975.758057  4035.914551   \n",
      "2097 2025-09-28  4141.476562  4143.003906  3969.792969  4018.659668   \n",
      "2098 2025-09-29  4217.341797  4234.782715  4087.927246  4141.356445   \n",
      "2099 2025-09-30  4145.957520  4238.671387  4095.443604  4217.055176   \n",
      "\n",
      "           volume  \n",
      "2095  47873508328  \n",
      "2096  20382555776  \n",
      "2097  24631307054  \n",
      "2098  38560429932  \n",
      "2099  37679153330  \n",
      "Rows: 2100\n"
     ]
    }
   ],
   "source": [
    "# Flatten MultiIndex columns: keep only first level (Close, High, Low, Open, Volume)\n",
    "if isinstance(eth.columns, pd.MultiIndex):\n",
    "    # drop the constant ticker level\n",
    "    if 'Ticker' in eth.columns.names:\n",
    "        eth = eth.droplevel('Ticker', axis=1)\n",
    "    else:\n",
    "        eth = eth.droplevel(-1, axis=1)\n",
    "# Lowercase column names\n",
    "eth.columns = [c.lower() for c in eth.columns]\n",
    "\n",
    "# Put date into a column\n",
    "eth = eth.reset_index().rename(columns={'Date': 'date'})\n",
    "\n",
    "# Reorder/select desired columns\n",
    "cols = ['date', 'close', 'high', 'low', 'open', 'volume']\n",
    "eth = eth[cols]\n",
    "\n",
    "print(eth.head())\n",
    "print(eth.tail())\n",
    "print(\"Rows:\", len(eth))\n",
    "# Save\n",
    "eth.to_csv(\"data/eth_usd_daily.csv\", index=False)\n",
    "# eth.to_excel(\"data/eth_usd_daily.xlsx\", sheet_name=\"Price\", index=False)"
   ]
  },
  {
   "cell_type": "code",
   "execution_count": 17,
   "id": "47d91586",
   "metadata": {},
   "outputs": [],
   "source": [
    "# Build volatility (Range% and Parkinson)\n",
    "vol = eth[['date', 'high', 'low', 'close']].copy()\n",
    "vol['Range'] = (vol['high'] - vol['low']) / vol['close'] * 100\n",
    "vol['Parkinson'] = np.sqrt((np.log(vol['high'] / vol['low']) ** 2) / (4 * np.log(2)))\n",
    "vol = vol[['date', 'Range', 'Parkinson']]\n",
    "\n",
    "os.makedirs(\"data\", exist_ok=True)\n",
    "with pd.ExcelWriter(\"data/eth_usd_daily.xlsx\", engine=\"openpyxl\") as writer:\n",
    "    eth.to_excel(writer, sheet_name=\"Price\", index=False)\n",
    "    vol.to_excel(writer, sheet_name=\"Volatility\", index=False)"
   ]
  },
  {
   "cell_type": "code",
   "execution_count": 22,
   "id": "26cb8116",
   "metadata": {},
   "outputs": [
    {
     "name": "stderr",
     "output_type": "stream",
     "text": [
      "C:\\Users\\lopardo\\AppData\\Local\\Temp\\ipykernel_15912\\1444231843.py:1: FutureWarning: YF.download() has changed argument auto_adjust default to True\n",
      "  intraday = yf.download(\"ETH-USD\", period=\"60d\", interval=\"15m\", progress=False, group_by=None)\n"
     ]
    },
    {
     "data": {
      "text/html": [
       "<div>\n",
       "<style scoped>\n",
       "    .dataframe tbody tr th:only-of-type {\n",
       "        vertical-align: middle;\n",
       "    }\n",
       "\n",
       "    .dataframe tbody tr th {\n",
       "        vertical-align: top;\n",
       "    }\n",
       "\n",
       "    .dataframe thead tr th {\n",
       "        text-align: left;\n",
       "    }\n",
       "\n",
       "    .dataframe thead tr:last-of-type th {\n",
       "        text-align: right;\n",
       "    }\n",
       "</style>\n",
       "<table border=\"1\" class=\"dataframe\">\n",
       "  <thead>\n",
       "    <tr>\n",
       "      <th>Ticker</th>\n",
       "      <th colspan=\"5\" halign=\"left\">ETH-USD</th>\n",
       "    </tr>\n",
       "    <tr>\n",
       "      <th>Price</th>\n",
       "      <th>Open</th>\n",
       "      <th>High</th>\n",
       "      <th>Low</th>\n",
       "      <th>Close</th>\n",
       "      <th>Volume</th>\n",
       "    </tr>\n",
       "    <tr>\n",
       "      <th>Datetime</th>\n",
       "      <th></th>\n",
       "      <th></th>\n",
       "      <th></th>\n",
       "      <th></th>\n",
       "      <th></th>\n",
       "    </tr>\n",
       "  </thead>\n",
       "  <tbody>\n",
       "    <tr>\n",
       "      <th>2025-08-03 00:00:00+00:00</th>\n",
       "      <td>3391.687988</td>\n",
       "      <td>3408.576660</td>\n",
       "      <td>3391.687988</td>\n",
       "      <td>3402.028076</td>\n",
       "      <td>281460736</td>\n",
       "    </tr>\n",
       "    <tr>\n",
       "      <th>2025-08-03 00:15:00+00:00</th>\n",
       "      <td>3400.241699</td>\n",
       "      <td>3407.477295</td>\n",
       "      <td>3373.355957</td>\n",
       "      <td>3377.059082</td>\n",
       "      <td>175435776</td>\n",
       "    </tr>\n",
       "    <tr>\n",
       "      <th>2025-08-03 00:30:00+00:00</th>\n",
       "      <td>3377.193604</td>\n",
       "      <td>3395.547852</td>\n",
       "      <td>3358.148926</td>\n",
       "      <td>3395.547852</td>\n",
       "      <td>1339566080</td>\n",
       "    </tr>\n",
       "    <tr>\n",
       "      <th>2025-08-03 00:45:00+00:00</th>\n",
       "      <td>3392.255859</td>\n",
       "      <td>3408.414062</td>\n",
       "      <td>3392.255859</td>\n",
       "      <td>3407.302734</td>\n",
       "      <td>516001792</td>\n",
       "    </tr>\n",
       "    <tr>\n",
       "      <th>2025-08-03 01:00:00+00:00</th>\n",
       "      <td>3408.376953</td>\n",
       "      <td>3414.197754</td>\n",
       "      <td>3403.459961</td>\n",
       "      <td>3413.396973</td>\n",
       "      <td>569868288</td>\n",
       "    </tr>\n",
       "  </tbody>\n",
       "</table>\n",
       "</div>"
      ],
      "text/plain": [
       "Ticker                         ETH-USD                                         \\\n",
       "Price                             Open         High          Low        Close   \n",
       "Datetime                                                                        \n",
       "2025-08-03 00:00:00+00:00  3391.687988  3408.576660  3391.687988  3402.028076   \n",
       "2025-08-03 00:15:00+00:00  3400.241699  3407.477295  3373.355957  3377.059082   \n",
       "2025-08-03 00:30:00+00:00  3377.193604  3395.547852  3358.148926  3395.547852   \n",
       "2025-08-03 00:45:00+00:00  3392.255859  3408.414062  3392.255859  3407.302734   \n",
       "2025-08-03 01:00:00+00:00  3408.376953  3414.197754  3403.459961  3413.396973   \n",
       "\n",
       "Ticker                                 \n",
       "Price                          Volume  \n",
       "Datetime                               \n",
       "2025-08-03 00:00:00+00:00   281460736  \n",
       "2025-08-03 00:15:00+00:00   175435776  \n",
       "2025-08-03 00:30:00+00:00  1339566080  \n",
       "2025-08-03 00:45:00+00:00   516001792  \n",
       "2025-08-03 01:00:00+00:00   569868288  "
      ]
     },
     "execution_count": 22,
     "metadata": {},
     "output_type": "execute_result"
    }
   ],
   "source": [
    "intraday = yf.download(\"ETH-USD\", period=\"60d\", interval=\"15m\", progress=False, group_by=None)\n",
    "intraday.head()"
   ]
  },
  {
   "cell_type": "code",
   "execution_count": null,
   "id": "0f7a27ca",
   "metadata": {},
   "outputs": [],
   "source": []
  }
 ],
 "metadata": {
  "kernelspec": {
   "display_name": "Python 3",
   "language": "python",
   "name": "python3"
  },
  "language_info": {
   "codemirror_mode": {
    "name": "ipython",
    "version": 3
   },
   "file_extension": ".py",
   "mimetype": "text/x-python",
   "name": "python",
   "nbconvert_exporter": "python",
   "pygments_lexer": "ipython3",
   "version": "3.13.7"
  }
 },
 "nbformat": 4,
 "nbformat_minor": 5
}
