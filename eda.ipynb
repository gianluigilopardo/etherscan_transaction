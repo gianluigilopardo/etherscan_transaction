{
 "cells": [
  {
   "cell_type": "code",
   "execution_count": 109,
   "metadata": {},
   "outputs": [],
   "source": [
    "import polars as pl\n",
    "\n",
    "from datetime import datetime\n"
   ]
  },
  {
   "cell_type": "code",
   "execution_count": 110,
   "metadata": {},
   "outputs": [],
   "source": [
    "btc = pl.read_csv('P:/ECB business areas/DGI/IPA/Personal folders/Lopardo/Etherscan_transaction/data/counterfactuals/btc-usd-daily_open.csv')\n",
    "eth_net = pl.read_csv('P:/ECB business areas/DGI/IPA/Personal folders/Lopardo/Etherscan_transaction/data/counterfactuals/eth_network_utilization.csv')\n",
    "sp500 = pl.read_csv('P:/ECB business areas/DGI/IPA/Personal folders/Lopardo/Etherscan_transaction/data/counterfactuals/sp500_historical_data.csv')\n",
    "us_yield = pl.read_csv('P:/ECB business areas/DGI/IPA/Personal folders/Lopardo/Etherscan_transaction/data/counterfactuals/us_2y_yield.csv')"
   ]
  },
  {
   "cell_type": "code",
   "execution_count": 111,
   "metadata": {},
   "outputs": [],
   "source": [
    "start_date = datetime(2019, 1, 1)"
   ]
  },
  {
   "cell_type": "code",
   "execution_count": 112,
   "metadata": {},
   "outputs": [
    {
     "data": {
      "text/html": [
       "<div><style>\n",
       ".dataframe > thead > tr > th,\n",
       ".dataframe > tbody > tr > td {\n",
       "  text-align: right;\n",
       "}\n",
       "</style>\n",
       "<small>shape: (5, 2)</small><table border=\"1\" class=\"dataframe\"><thead><tr><th>Date</th><th>DGS2</th></tr><tr><td>date</td><td>f64</td></tr></thead><tbody><tr><td>2019-01-02</td><td>2.5</td></tr><tr><td>2019-01-03</td><td>2.39</td></tr><tr><td>2019-01-04</td><td>2.5</td></tr><tr><td>2019-01-07</td><td>2.53</td></tr><tr><td>2019-01-08</td><td>2.58</td></tr></tbody></table></div>"
      ],
      "text/plain": [
       "shape: (5, 2)\n",
       "┌────────────┬──────┐\n",
       "│ Date       ┆ DGS2 │\n",
       "│ ---        ┆ ---  │\n",
       "│ date       ┆ f64  │\n",
       "╞════════════╪══════╡\n",
       "│ 2019-01-02 ┆ 2.5  │\n",
       "│ 2019-01-03 ┆ 2.39 │\n",
       "│ 2019-01-04 ┆ 2.5  │\n",
       "│ 2019-01-07 ┆ 2.53 │\n",
       "│ 2019-01-08 ┆ 2.58 │\n",
       "└────────────┴──────┘"
      ]
     },
     "execution_count": 112,
     "metadata": {},
     "output_type": "execute_result"
    }
   ],
   "source": [
    "us_yield = us_yield.with_columns(\n",
    "        pl.col('observation_date').str.strptime(pl.Date).alias('Date')\n",
    "    ).select(['Date', 'DGS2'])\n",
    "\n",
    "us_yield.head()"
   ]
  },
  {
   "cell_type": "code",
   "execution_count": 113,
   "metadata": {},
   "outputs": [
    {
     "data": {
      "text/html": [
       "<div><style>\n",
       ".dataframe > thead > tr > th,\n",
       ".dataframe > tbody > tr > td {\n",
       "  text-align: right;\n",
       "}\n",
       "</style>\n",
       "<small>shape: (5, 2)</small><table border=\"1\" class=\"dataframe\"><thead><tr><th>Date</th><th>SP500</th></tr><tr><td>date</td><td>f64</td></tr></thead><tbody><tr><td>2019-01-02</td><td>2476.959961</td></tr><tr><td>2019-01-03</td><td>2491.919922</td></tr><tr><td>2019-01-04</td><td>2474.330078</td></tr><tr><td>2019-01-07</td><td>2535.610107</td></tr><tr><td>2019-01-08</td><td>2568.110107</td></tr></tbody></table></div>"
      ],
      "text/plain": [
       "shape: (5, 2)\n",
       "┌────────────┬─────────────┐\n",
       "│ Date       ┆ SP500       │\n",
       "│ ---        ┆ ---         │\n",
       "│ date       ┆ f64         │\n",
       "╞════════════╪═════════════╡\n",
       "│ 2019-01-02 ┆ 2476.959961 │\n",
       "│ 2019-01-03 ┆ 2491.919922 │\n",
       "│ 2019-01-04 ┆ 2474.330078 │\n",
       "│ 2019-01-07 ┆ 2535.610107 │\n",
       "│ 2019-01-08 ┆ 2568.110107 │\n",
       "└────────────┴─────────────┘"
      ]
     },
     "execution_count": 113,
     "metadata": {},
     "output_type": "execute_result"
    }
   ],
   "source": [
    "sp500 = sp500.with_columns(\n",
    "    [\n",
    "        pl.col('Date').str.strptime(pl.Date, format=\"%Y-%m-%d %H:%M:%S %Z\"),\n",
    "        pl.col('Open').alias('SP500')\n",
    "    ]\n",
    ").select(['Date', 'SP500'])\n",
    "\n",
    "\n",
    "sp500.head()"
   ]
  },
  {
   "cell_type": "code",
   "execution_count": 114,
   "metadata": {},
   "outputs": [
    {
     "data": {
      "text/html": [
       "<div><style>\n",
       ".dataframe > thead > tr > th,\n",
       ".dataframe > tbody > tr > td {\n",
       "  text-align: right;\n",
       "}\n",
       "</style>\n",
       "<small>shape: (5, 2)</small><table border=\"1\" class=\"dataframe\"><thead><tr><th>Date</th><th>eth_utilization</th></tr><tr><td>date</td><td>f64</td></tr></thead><tbody><tr><td>2015-07-30</td><td>0.0</td></tr><tr><td>2015-07-31</td><td>0.0</td></tr><tr><td>2015-08-01</td><td>0.0</td></tr><tr><td>2015-08-02</td><td>0.0</td></tr><tr><td>2015-08-03</td><td>0.0</td></tr></tbody></table></div>"
      ],
      "text/plain": [
       "shape: (5, 2)\n",
       "┌────────────┬─────────────────┐\n",
       "│ Date       ┆ eth_utilization │\n",
       "│ ---        ┆ ---             │\n",
       "│ date       ┆ f64             │\n",
       "╞════════════╪═════════════════╡\n",
       "│ 2015-07-30 ┆ 0.0             │\n",
       "│ 2015-07-31 ┆ 0.0             │\n",
       "│ 2015-08-01 ┆ 0.0             │\n",
       "│ 2015-08-02 ┆ 0.0             │\n",
       "│ 2015-08-03 ┆ 0.0             │\n",
       "└────────────┴─────────────────┘"
      ]
     },
     "execution_count": 114,
     "metadata": {},
     "output_type": "execute_result"
    }
   ],
   "source": [
    "eth_net = eth_net.with_columns(\n",
    "    [\n",
    "        pl.col('Date(UTC)').str.strptime(pl.Date, format='%m/%d/%Y').alias('Date'), \n",
    "        pl.col('Value').alias('eth_utilization')\n",
    "    ]\n",
    ").select(['Date', 'eth_utilization'])\n",
    "\n",
    "\n",
    "eth_net.head()"
   ]
  },
  {
   "cell_type": "code",
   "execution_count": 115,
   "metadata": {},
   "outputs": [
    {
     "data": {
      "text/html": [
       "<div><style>\n",
       ".dataframe > thead > tr > th,\n",
       ".dataframe > tbody > tr > td {\n",
       "  text-align: right;\n",
       "}\n",
       "</style>\n",
       "<small>shape: (5, 2)</small><table border=\"1\" class=\"dataframe\"><thead><tr><th>Date</th><th>BTC</th></tr><tr><td>date</td><td>f64</td></tr></thead><tbody><tr><td>2013-04-28</td><td>135.3</td></tr><tr><td>2013-04-29</td><td>141.96</td></tr><tr><td>2013-04-30</td><td>135.3</td></tr><tr><td>2013-05-01</td><td>117.0</td></tr><tr><td>2013-05-02</td><td>103.43</td></tr></tbody></table></div>"
      ],
      "text/plain": [
       "shape: (5, 2)\n",
       "┌────────────┬────────┐\n",
       "│ Date       ┆ BTC    │\n",
       "│ ---        ┆ ---    │\n",
       "│ date       ┆ f64    │\n",
       "╞════════════╪════════╡\n",
       "│ 2013-04-28 ┆ 135.3  │\n",
       "│ 2013-04-29 ┆ 141.96 │\n",
       "│ 2013-04-30 ┆ 135.3  │\n",
       "│ 2013-05-01 ┆ 117.0  │\n",
       "│ 2013-05-02 ┆ 103.43 │\n",
       "└────────────┴────────┘"
      ]
     },
     "execution_count": 115,
     "metadata": {},
     "output_type": "execute_result"
    }
   ],
   "source": [
    "btc = btc.with_columns(\n",
    "    [\n",
    "        pl.col('snapped_at').str.strptime(pl.Date, format=\"%Y-%m-%d %H:%M:%S %Z\").alias('Date'),\n",
    "        pl.col('price').alias('BTC')\n",
    "    ]  \n",
    ").select(['Date', 'BTC'])\n",
    "\n",
    "btc.head()"
   ]
  },
  {
   "cell_type": "code",
   "execution_count": 116,
   "metadata": {},
   "outputs": [
    {
     "data": {
      "text/html": [
       "<div><style>\n",
       ".dataframe > thead > tr > th,\n",
       ".dataframe > tbody > tr > td {\n",
       "  text-align: right;\n",
       "}\n",
       "</style>\n",
       "<small>shape: (5, 5)</small><table border=\"1\" class=\"dataframe\"><thead><tr><th>Date</th><th>BTC</th><th>eth_utilization</th><th>SP500</th><th>DGS2</th></tr><tr><td>date</td><td>f64</td><td>f64</td><td>f64</td><td>f64</td></tr></thead><tbody><tr><td>2019-01-02</td><td>3794.264254</td><td>0.7468</td><td>2476.959961</td><td>2.5</td></tr><tr><td>2019-01-03</td><td>3872.172184</td><td>0.7613</td><td>2491.919922</td><td>2.39</td></tr><tr><td>2019-01-04</td><td>3776.525808</td><td>0.7607</td><td>2474.330078</td><td>2.5</td></tr><tr><td>2019-01-07</td><td>4013.520091</td><td>0.7115</td><td>2535.610107</td><td>2.53</td></tr><tr><td>2019-01-08</td><td>3989.668718</td><td>0.7011</td><td>2568.110107</td><td>2.58</td></tr></tbody></table></div>"
      ],
      "text/plain": [
       "shape: (5, 5)\n",
       "┌────────────┬─────────────┬─────────────────┬─────────────┬──────┐\n",
       "│ Date       ┆ BTC         ┆ eth_utilization ┆ SP500       ┆ DGS2 │\n",
       "│ ---        ┆ ---         ┆ ---             ┆ ---         ┆ ---  │\n",
       "│ date       ┆ f64         ┆ f64             ┆ f64         ┆ f64  │\n",
       "╞════════════╪═════════════╪═════════════════╪═════════════╪══════╡\n",
       "│ 2019-01-02 ┆ 3794.264254 ┆ 0.7468          ┆ 2476.959961 ┆ 2.5  │\n",
       "│ 2019-01-03 ┆ 3872.172184 ┆ 0.7613          ┆ 2491.919922 ┆ 2.39 │\n",
       "│ 2019-01-04 ┆ 3776.525808 ┆ 0.7607          ┆ 2474.330078 ┆ 2.5  │\n",
       "│ 2019-01-07 ┆ 4013.520091 ┆ 0.7115          ┆ 2535.610107 ┆ 2.53 │\n",
       "│ 2019-01-08 ┆ 3989.668718 ┆ 0.7011          ┆ 2568.110107 ┆ 2.58 │\n",
       "└────────────┴─────────────┴─────────────────┴─────────────┴──────┘"
      ]
     },
     "execution_count": 116,
     "metadata": {},
     "output_type": "execute_result"
    }
   ],
   "source": [
    "df = btc.join(\n",
    "        eth_net, \n",
    "        on='Date'\n",
    "    ).join(\n",
    "        sp500, \n",
    "        on='Date'\n",
    "    ).join(\n",
    "        us_yield, \n",
    "        on='Date'\n",
    "    )\n",
    "\n",
    "df.head()"
   ]
  },
  {
   "cell_type": "code",
   "execution_count": 118,
   "metadata": {},
   "outputs": [],
   "source": [
    "df.write_csv('counterfactuals.csv')"
   ]
  },
  {
   "cell_type": "code",
   "execution_count": null,
   "metadata": {},
   "outputs": [],
   "source": []
  },
  {
   "cell_type": "code",
   "execution_count": null,
   "metadata": {},
   "outputs": [
    {
     "ename": "NameError",
     "evalue": "name 'eth_usd' is not defined",
     "output_type": "error",
     "traceback": [
      "\u001b[31m---------------------------------------------------------------------------\u001b[39m",
      "\u001b[31mNameError\u001b[39m                                 Traceback (most recent call last)",
      "\u001b[36mCell\u001b[39m\u001b[36m \u001b[39m\u001b[32mIn[1]\u001b[39m\u001b[32m, line 1\u001b[39m\n\u001b[32m----> \u001b[39m\u001b[32m1\u001b[39m \u001b[43meth_usd\u001b[49m.head()\n",
      "\u001b[31mNameError\u001b[39m: name 'eth_usd' is not defined"
     ]
    }
   ],
   "source": []
  },
  {
   "cell_type": "code",
   "execution_count": null,
   "metadata": {},
   "outputs": [],
   "source": []
  }
 ],
 "metadata": {
  "kernelspec": {
   "display_name": "Python 3",
   "language": "python",
   "name": "python3"
  },
  "language_info": {
   "codemirror_mode": {
    "name": "ipython",
    "version": 3
   },
   "file_extension": ".py",
   "mimetype": "text/x-python",
   "name": "python",
   "nbconvert_exporter": "python",
   "pygments_lexer": "ipython3",
   "version": "3.13.7"
  }
 },
 "nbformat": 4,
 "nbformat_minor": 2
}
