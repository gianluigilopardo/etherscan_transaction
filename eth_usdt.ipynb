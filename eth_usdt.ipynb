{
 "cells": [
  {
   "cell_type": "code",
   "execution_count": null,
   "id": "2cb0847c",
   "metadata": {},
   "outputs": [],
   "source": [
    "import polars as pl "
   ]
  },
  {
   "cell_type": "code",
   "execution_count": null,
   "id": "52318932",
   "metadata": {},
   "outputs": [],
   "source": [
    "eth_usd = pl.read_csv('transactions_eth.csv').sort(by='datetime')\n",
    "eth_usd.head()"
   ]
  },
  {
   "cell_type": "code",
   "execution_count": null,
   "id": "10637802",
   "metadata": {},
   "outputs": [],
   "source": []
  }
 ],
 "metadata": {
  "language_info": {
   "name": "python"
  }
 },
 "nbformat": 4,
 "nbformat_minor": 5
}
