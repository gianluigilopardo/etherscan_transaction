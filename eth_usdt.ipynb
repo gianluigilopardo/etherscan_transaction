{
 "cells": [
  {
   "cell_type": "code",
   "execution_count": 1,
   "id": "2cb0847c",
   "metadata": {},
   "outputs": [],
   "source": [
    "import polars as pl "
   ]
  },
  {
   "cell_type": "code",
   "execution_count": 2,
   "id": "52318932",
   "metadata": {},
   "outputs": [
    {
     "data": {
      "text/html": [
       "<div><style>\n",
       ".dataframe > thead > tr,\n",
       ".dataframe > tbody > tr {\n",
       "  text-align: right;\n",
       "  white-space: pre-wrap;\n",
       "}\n",
       "</style>\n",
       "<small>shape: (5, 20)</small><table border=\"1\" class=\"dataframe\"><thead><tr><th>blockNumber</th><th>timeStamp</th><th>hash</th><th>nonce</th><th>blockHash</th><th>from</th><th>to</th><th>contractAddress</th><th>value</th><th>tokenName</th><th>tokenSymbol</th><th>tokenDecimal</th><th>transactionIndex</th><th>gas</th><th>gasPrice</th><th>gasUsed</th><th>cumulativeGasUsed</th><th>input</th><th>confirmations</th><th>datetime</th></tr><tr><td>i64</td><td>i64</td><td>str</td><td>i64</td><td>str</td><td>str</td><td>str</td><td>str</td><td>i64</td><td>str</td><td>str</td><td>i64</td><td>i64</td><td>i64</td><td>i64</td><td>i64</td><td>i64</td><td>str</td><td>i64</td><td>str</td></tr></thead><tbody><tr><td>18907550</td><td>1704050975</td><td>&quot;0x6c0f8e8a3372b164268cbd962f92…</td><td>1</td><td>&quot;0xc3024c5b691e07b0d5200cc34d4e…</td><td>&quot;0x44e093cff820d0a2997a0ad0c28a…</td><td>&quot;0x807cf9a772d5a3f9cefbc1192e93…</td><td>&quot;0xdac17f958d2ee523a22062069945…</td><td>94379322</td><td>&quot;Tether USD&quot;</td><td>&quot;USDT&quot;</td><td>6</td><td>117</td><td>160626</td><td>12497276008</td><td>131780</td><td>11041035</td><td>&quot;deprecated&quot;</td><td>2949300</td><td>&quot;2023-12-31T19:29:35.000000&quot;</td></tr><tr><td>18907550</td><td>1704050975</td><td>&quot;0x67ac82897883eede803c87590aed…</td><td>2</td><td>&quot;0xc3024c5b691e07b0d5200cc34d4e…</td><td>&quot;0xfa4b2a1e0d60044f1dc109564596…</td><td>&quot;0x1689a089aa12d6cbbd88bc2755e4…</td><td>&quot;0xdac17f958d2ee523a22062069945…</td><td>214767443</td><td>&quot;Tether USD&quot;</td><td>&quot;USDT&quot;</td><td>6</td><td>84</td><td>170000</td><td>14000000000</td><td>41297</td><td>10186558</td><td>&quot;deprecated&quot;</td><td>2949300</td><td>&quot;2023-12-31T19:29:35.000000&quot;</td></tr><tr><td>18907550</td><td>1704050975</td><td>&quot;0xb0537edf0eb802d73b6068e67de8…</td><td>5797</td><td>&quot;0xc3024c5b691e07b0d5200cc34d4e…</td><td>&quot;0x4fac9d83ffad797072db8bd72cc5…</td><td>&quot;0x880432f8e0e497b05e692f70638d…</td><td>&quot;0xdac17f958d2ee523a22062069945…</td><td>25010600</td><td>&quot;Tether USD&quot;</td><td>&quot;USDT&quot;</td><td>6</td><td>79</td><td>84000</td><td>13397276008</td><td>46109</td><td>9767187</td><td>&quot;deprecated&quot;</td><td>2949300</td><td>&quot;2023-12-31T19:29:35.000000&quot;</td></tr><tr><td>18907550</td><td>1704050975</td><td>&quot;0xb281032621923a37d01e7f4b5398…</td><td>227</td><td>&quot;0xc3024c5b691e07b0d5200cc34d4e…</td><td>&quot;0x3fc91a3afd70395cd496c647d5a6…</td><td>&quot;0x9d6dd6f7697de51acdbe8cc26396…</td><td>&quot;0xdac17f958d2ee523a22062069945…</td><td>595091773</td><td>&quot;Tether USD&quot;</td><td>&quot;USDT&quot;</td><td>6</td><td>66</td><td>247549</td><td>12497276008</td><td>163283</td><td>6647688</td><td>&quot;deprecated&quot;</td><td>2949300</td><td>&quot;2023-12-31T19:29:35.000000&quot;</td></tr><tr><td>18907550</td><td>1704050975</td><td>&quot;0xb281032621923a37d01e7f4b5398…</td><td>227</td><td>&quot;0xc3024c5b691e07b0d5200cc34d4e…</td><td>&quot;0x3fc91a3afd70395cd496c647d5a6…</td><td>&quot;0x37a8f295612602f2774d331e562b…</td><td>&quot;0xdac17f958d2ee523a22062069945…</td><td>893978</td><td>&quot;Tether USD&quot;</td><td>&quot;USDT&quot;</td><td>6</td><td>66</td><td>247549</td><td>12497276008</td><td>163283</td><td>6647688</td><td>&quot;deprecated&quot;</td><td>2949300</td><td>&quot;2023-12-31T19:29:35.000000&quot;</td></tr></tbody></table></div>"
      ],
      "text/plain": [
       "shape: (5, 20)\n",
       "┌────────────┬────────────┬────────────┬───────┬───┬───────────┬───────────┬───────────┬───────────┐\n",
       "│ blockNumbe ┆ timeStamp  ┆ hash       ┆ nonce ┆ … ┆ cumulativ ┆ input     ┆ confirmat ┆ datetime  │\n",
       "│ r          ┆ ---        ┆ ---        ┆ ---   ┆   ┆ eGasUsed  ┆ ---       ┆ ions      ┆ ---       │\n",
       "│ ---        ┆ i64        ┆ str        ┆ i64   ┆   ┆ ---       ┆ str       ┆ ---       ┆ str       │\n",
       "│ i64        ┆            ┆            ┆       ┆   ┆ i64       ┆           ┆ i64       ┆           │\n",
       "╞════════════╪════════════╪════════════╪═══════╪═══╪═══════════╪═══════════╪═══════════╪═══════════╡\n",
       "│ 18907550   ┆ 1704050975 ┆ 0x6c0f8e8a ┆ 1     ┆ … ┆ 11041035  ┆ deprecate ┆ 2949300   ┆ 2023-12-3 │\n",
       "│            ┆            ┆ 3372b16426 ┆       ┆   ┆           ┆ d         ┆           ┆ 1T19:29:3 │\n",
       "│            ┆            ┆ 8cbd962f92 ┆       ┆   ┆           ┆           ┆           ┆ 5.000000  │\n",
       "│            ┆            ┆ …          ┆       ┆   ┆           ┆           ┆           ┆           │\n",
       "│ 18907550   ┆ 1704050975 ┆ 0x67ac8289 ┆ 2     ┆ … ┆ 10186558  ┆ deprecate ┆ 2949300   ┆ 2023-12-3 │\n",
       "│            ┆            ┆ 7883eede80 ┆       ┆   ┆           ┆ d         ┆           ┆ 1T19:29:3 │\n",
       "│            ┆            ┆ 3c87590aed ┆       ┆   ┆           ┆           ┆           ┆ 5.000000  │\n",
       "│            ┆            ┆ …          ┆       ┆   ┆           ┆           ┆           ┆           │\n",
       "│ 18907550   ┆ 1704050975 ┆ 0xb0537edf ┆ 5797  ┆ … ┆ 9767187   ┆ deprecate ┆ 2949300   ┆ 2023-12-3 │\n",
       "│            ┆            ┆ 0eb802d73b ┆       ┆   ┆           ┆ d         ┆           ┆ 1T19:29:3 │\n",
       "│            ┆            ┆ 6068e67de8 ┆       ┆   ┆           ┆           ┆           ┆ 5.000000  │\n",
       "│            ┆            ┆ …          ┆       ┆   ┆           ┆           ┆           ┆           │\n",
       "│ 18907550   ┆ 1704050975 ┆ 0xb2810326 ┆ 227   ┆ … ┆ 6647688   ┆ deprecate ┆ 2949300   ┆ 2023-12-3 │\n",
       "│            ┆            ┆ 21923a37d0 ┆       ┆   ┆           ┆ d         ┆           ┆ 1T19:29:3 │\n",
       "│            ┆            ┆ 1e7f4b5398 ┆       ┆   ┆           ┆           ┆           ┆ 5.000000  │\n",
       "│            ┆            ┆ …          ┆       ┆   ┆           ┆           ┆           ┆           │\n",
       "│ 18907550   ┆ 1704050975 ┆ 0xb2810326 ┆ 227   ┆ … ┆ 6647688   ┆ deprecate ┆ 2949300   ┆ 2023-12-3 │\n",
       "│            ┆            ┆ 21923a37d0 ┆       ┆   ┆           ┆ d         ┆           ┆ 1T19:29:3 │\n",
       "│            ┆            ┆ 1e7f4b5398 ┆       ┆   ┆           ┆           ┆           ┆ 5.000000  │\n",
       "│            ┆            ┆ …          ┆       ┆   ┆           ┆           ┆           ┆           │\n",
       "└────────────┴────────────┴────────────┴───────┴───┴───────────┴───────────┴───────────┴───────────┘"
      ]
     },
     "execution_count": 2,
     "metadata": {},
     "output_type": "execute_result"
    }
   ],
   "source": [
    "eth_usd = pl.read_csv('transactions_eth.csv').sort(by='datetime')\n",
    "eth_usd.head()"
   ]
  },
  {
   "cell_type": "code",
   "execution_count": 3,
   "id": "10637802",
   "metadata": {},
   "outputs": [
    {
     "data": {
      "text/html": [
       "<div><style>\n",
       ".dataframe > thead > tr,\n",
       ".dataframe > tbody > tr {\n",
       "  text-align: right;\n",
       "  white-space: pre-wrap;\n",
       "}\n",
       "</style>\n",
       "<small>shape: (5, 20)</small><table border=\"1\" class=\"dataframe\"><thead><tr><th>blockNumber</th><th>timeStamp</th><th>hash</th><th>nonce</th><th>blockHash</th><th>from</th><th>to</th><th>contractAddress</th><th>value</th><th>tokenName</th><th>tokenSymbol</th><th>tokenDecimal</th><th>transactionIndex</th><th>gas</th><th>gasPrice</th><th>gasUsed</th><th>cumulativeGasUsed</th><th>input</th><th>confirmations</th><th>datetime</th></tr><tr><td>i64</td><td>i64</td><td>str</td><td>i64</td><td>str</td><td>str</td><td>str</td><td>str</td><td>i64</td><td>str</td><td>str</td><td>i64</td><td>i64</td><td>i64</td><td>i64</td><td>i64</td><td>i64</td><td>str</td><td>i64</td><td>str</td></tr></thead><tbody><tr><td>23282901</td><td>1756906307</td><td>&quot;0xe058492c9ea9bba0ed0a25cd9f74…</td><td>18732</td><td>&quot;0x947d7fc365b331a7b5cc24c72c92…</td><td>&quot;0x2e7f2740a839231c41cfde0d5318…</td><td>&quot;0x16d5b86c20958c30593ed23c3c98…</td><td>&quot;0xdac17f958d2ee523a22062069945…</td><td>108760000</td><td>&quot;Tether USD&quot;</td><td>&quot;USDT&quot;</td><td>6</td><td>18</td><td>100000</td><td>2725105948</td><td>46109</td><td>1335332</td><td>&quot;deprecated&quot;</td><td>3</td><td>&quot;2025-09-03T13:31:47.000000&quot;</td></tr><tr><td>23282901</td><td>1756906307</td><td>&quot;0x3e713dd94500ae0ae68809888b7d…</td><td>216259</td><td>&quot;0x947d7fc365b331a7b5cc24c72c92…</td><td>&quot;0x77a17bce25fc2fb3c7630e18161a…</td><td>&quot;0x63c79fccd0a21e4a4d87056a0efe…</td><td>&quot;0xdac17f958d2ee523a22062069945…</td><td>12000000</td><td>&quot;Tether USD&quot;</td><td>&quot;USDT&quot;</td><td>6</td><td>14</td><td>100000</td><td>2725105948</td><td>43682</td><td>1115096</td><td>&quot;deprecated&quot;</td><td>3</td><td>&quot;2025-09-03T13:31:47.000000&quot;</td></tr><tr><td>23282901</td><td>1756906307</td><td>&quot;0x7f3204979cc0f323d6e3eefcd3e1…</td><td>62681</td><td>&quot;0x947d7fc365b331a7b5cc24c72c92…</td><td>&quot;0x11b815efb8f581194ae79006d24e…</td><td>&quot;0x5050e08626c499411b5d0e0b5af0…</td><td>&quot;0xdac17f958d2ee523a22062069945…</td><td>35976518735</td><td>&quot;Tether USD&quot;</td><td>&quot;USDT&quot;</td><td>6</td><td>3</td><td>240408</td><td>725105948</td><td>120204</td><td>555703</td><td>&quot;deprecated&quot;</td><td>3</td><td>&quot;2025-09-03T13:31:47.000000&quot;</td></tr><tr><td>23282901</td><td>1756906307</td><td>&quot;0xb3316e3cffbfbac1aeacaef93d48…</td><td>321720</td><td>&quot;0x947d7fc365b331a7b5cc24c72c92…</td><td>&quot;0x9b6f230d64bb430ead9442aa7282…</td><td>&quot;0xa69babef1ca67a37ffaf7a485dff…</td><td>&quot;0xdac17f958d2ee523a22062069945…</td><td>38686077715</td><td>&quot;Tether USD&quot;</td><td>&quot;USDT&quot;</td><td>6</td><td>1</td><td>313940</td><td>725105948</td><td>156986</td><td>313028</td><td>&quot;deprecated&quot;</td><td>3</td><td>&quot;2025-09-03T13:31:47.000000&quot;</td></tr><tr><td>23282901</td><td>1756906307</td><td>&quot;0xb3316e3cffbfbac1aeacaef93d48…</td><td>321720</td><td>&quot;0x947d7fc365b331a7b5cc24c72c92…</td><td>&quot;0x000000000004444c5dc75cb35838…</td><td>&quot;0x9b6f230d64bb430ead9442aa7282…</td><td>&quot;0xdac17f958d2ee523a22062069945…</td><td>38686077716</td><td>&quot;Tether USD&quot;</td><td>&quot;USDT&quot;</td><td>6</td><td>1</td><td>313940</td><td>725105948</td><td>156986</td><td>313028</td><td>&quot;deprecated&quot;</td><td>3</td><td>&quot;2025-09-03T13:31:47.000000&quot;</td></tr></tbody></table></div>"
      ],
      "text/plain": [
       "shape: (5, 20)\n",
       "┌────────────┬────────────┬───────────┬────────┬───┬───────────┬───────────┬───────────┬───────────┐\n",
       "│ blockNumbe ┆ timeStamp  ┆ hash      ┆ nonce  ┆ … ┆ cumulativ ┆ input     ┆ confirmat ┆ datetime  │\n",
       "│ r          ┆ ---        ┆ ---       ┆ ---    ┆   ┆ eGasUsed  ┆ ---       ┆ ions      ┆ ---       │\n",
       "│ ---        ┆ i64        ┆ str       ┆ i64    ┆   ┆ ---       ┆ str       ┆ ---       ┆ str       │\n",
       "│ i64        ┆            ┆           ┆        ┆   ┆ i64       ┆           ┆ i64       ┆           │\n",
       "╞════════════╪════════════╪═══════════╪════════╪═══╪═══════════╪═══════════╪═══════════╪═══════════╡\n",
       "│ 23282901   ┆ 1756906307 ┆ 0xe058492 ┆ 18732  ┆ … ┆ 1335332   ┆ deprecate ┆ 3         ┆ 2025-09-0 │\n",
       "│            ┆            ┆ c9ea9bba0 ┆        ┆   ┆           ┆ d         ┆           ┆ 3T13:31:4 │\n",
       "│            ┆            ┆ ed0a25cd9 ┆        ┆   ┆           ┆           ┆           ┆ 7.000000  │\n",
       "│            ┆            ┆ f74…      ┆        ┆   ┆           ┆           ┆           ┆           │\n",
       "│ 23282901   ┆ 1756906307 ┆ 0x3e713dd ┆ 216259 ┆ … ┆ 1115096   ┆ deprecate ┆ 3         ┆ 2025-09-0 │\n",
       "│            ┆            ┆ 94500ae0a ┆        ┆   ┆           ┆ d         ┆           ┆ 3T13:31:4 │\n",
       "│            ┆            ┆ e68809888 ┆        ┆   ┆           ┆           ┆           ┆ 7.000000  │\n",
       "│            ┆            ┆ b7d…      ┆        ┆   ┆           ┆           ┆           ┆           │\n",
       "│ 23282901   ┆ 1756906307 ┆ 0x7f32049 ┆ 62681  ┆ … ┆ 555703    ┆ deprecate ┆ 3         ┆ 2025-09-0 │\n",
       "│            ┆            ┆ 79cc0f323 ┆        ┆   ┆           ┆ d         ┆           ┆ 3T13:31:4 │\n",
       "│            ┆            ┆ d6e3eefcd ┆        ┆   ┆           ┆           ┆           ┆ 7.000000  │\n",
       "│            ┆            ┆ 3e1…      ┆        ┆   ┆           ┆           ┆           ┆           │\n",
       "│ 23282901   ┆ 1756906307 ┆ 0xb3316e3 ┆ 321720 ┆ … ┆ 313028    ┆ deprecate ┆ 3         ┆ 2025-09-0 │\n",
       "│            ┆            ┆ cffbfbac1 ┆        ┆   ┆           ┆ d         ┆           ┆ 3T13:31:4 │\n",
       "│            ┆            ┆ aeacaef93 ┆        ┆   ┆           ┆           ┆           ┆ 7.000000  │\n",
       "│            ┆            ┆ d48…      ┆        ┆   ┆           ┆           ┆           ┆           │\n",
       "│ 23282901   ┆ 1756906307 ┆ 0xb3316e3 ┆ 321720 ┆ … ┆ 313028    ┆ deprecate ┆ 3         ┆ 2025-09-0 │\n",
       "│            ┆            ┆ cffbfbac1 ┆        ┆   ┆           ┆ d         ┆           ┆ 3T13:31:4 │\n",
       "│            ┆            ┆ aeacaef93 ┆        ┆   ┆           ┆           ┆           ┆ 7.000000  │\n",
       "│            ┆            ┆ d48…      ┆        ┆   ┆           ┆           ┆           ┆           │\n",
       "└────────────┴────────────┴───────────┴────────┴───┴───────────┴───────────┴───────────┴───────────┘"
      ]
     },
     "execution_count": 3,
     "metadata": {},
     "output_type": "execute_result"
    }
   ],
   "source": [
    "eth_usd.tail()"
   ]
  },
  {
   "cell_type": "code",
   "execution_count": 8,
   "id": "fd0a8199",
   "metadata": {},
   "outputs": [
    {
     "name": "stdout",
     "output_type": "stream",
     "text": [
      "shape: (1, 1)\n",
      "┌─────────────┐\n",
      "│ unique_days │\n",
      "│ ---         │\n",
      "│ u32         │\n",
      "╞═════════════╡\n",
      "│ 416         │\n",
      "└─────────────┘\n",
      "shape: (416, 1)\n",
      "┌────────────┐\n",
      "│ datetime   │\n",
      "│ ---        │\n",
      "│ date       │\n",
      "╞════════════╡\n",
      "│ 2023-12-31 │\n",
      "│ 2024-01-01 │\n",
      "│ 2024-01-02 │\n",
      "│ 2024-01-03 │\n",
      "│ 2024-01-04 │\n",
      "│ …          │\n",
      "│ 2025-02-14 │\n",
      "│ 2025-08-21 │\n",
      "│ 2025-09-01 │\n",
      "│ 2025-09-02 │\n",
      "│ 2025-09-03 │\n",
      "└────────────┘\n"
     ]
    }
   ],
   "source": [
    "# Parse datetime column (was str)\n",
    "eth_usd = eth_usd.with_columns(\n",
    "    pl.col(\"datetime\").str.strptime(pl.Datetime)\n",
    ")\n",
    "\n",
    "# Count unique days\n",
    "unique_day_count = eth_usd.select(\n",
    "    pl.col(\"datetime\").dt.date().n_unique().alias(\"unique_days\")\n",
    ")\n",
    "print(unique_day_count)\n",
    "\n",
    "# (Optional) list the distinct days\n",
    "unique_days = eth_usd.select(pl.col(\"datetime\").dt.date().unique().sort())\n",
    "print(unique_days)"
   ]
  },
  {
   "cell_type": "code",
   "execution_count": null,
   "id": "78cc2d09",
   "metadata": {},
   "outputs": [],
   "source": []
  },
  {
   "cell_type": "code",
   "execution_count": null,
   "id": "33af6a0a",
   "metadata": {},
   "outputs": [],
   "source": []
  }
 ],
 "metadata": {
  "kernelspec": {
   "display_name": "Python 3",
   "language": "python",
   "name": "python3"
  },
  "language_info": {
   "codemirror_mode": {
    "name": "ipython",
    "version": 3
   },
   "file_extension": ".py",
   "mimetype": "text/x-python",
   "name": "python",
   "nbconvert_exporter": "python",
   "pygments_lexer": "ipython3",
   "version": "3.13.7"
  }
 },
 "nbformat": 4,
 "nbformat_minor": 5
}
